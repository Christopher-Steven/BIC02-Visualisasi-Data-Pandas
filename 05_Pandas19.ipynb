{
 "cells": [
  {
   "cell_type": "markdown",
   "metadata": {},
   "source": [
    "## Pertemuan 5 Pandas 19\n",
    "- #### Sumber : https://youtu.be/ySKDbYXFN2M\n",
    "- ## Fromatting Tampilan Pandas Data Frame"
   ]
  },
  {
   "cell_type": "code",
   "execution_count": 2,
   "metadata": {},
   "outputs": [
    {
     "name": "stdout",
     "output_type": "stream",
     "text": [
      "1.1.3\n",
      "1.19.2\n"
     ]
    }
   ],
   "source": [
    "import pandas as pd\n",
    "import numpy as np\n",
    "\n",
    "print(pd.__version__)\n",
    "print(np.__version__)"
   ]
  },
  {
   "cell_type": "markdown",
   "metadata": {},
   "source": [
    "### Data Frame"
   ]
  },
  {
   "cell_type": "code",
   "execution_count": 4,
   "metadata": {},
   "outputs": [
    {
     "data": {
      "text/html": [
       "<div>\n",
       "<style scoped>\n",
       "    .dataframe tbody tr th:only-of-type {\n",
       "        vertical-align: middle;\n",
       "    }\n",
       "\n",
       "    .dataframe tbody tr th {\n",
       "        vertical-align: top;\n",
       "    }\n",
       "\n",
       "    .dataframe thead th {\n",
       "        text-align: right;\n",
       "    }\n",
       "</style>\n",
       "<table border=\"1\" class=\"dataframe\">\n",
       "  <thead>\n",
       "    <tr style=\"text-align: right;\">\n",
       "      <th></th>\n",
       "      <th>omset</th>\n",
       "      <th>operasional</th>\n",
       "    </tr>\n",
       "  </thead>\n",
       "  <tbody>\n",
       "    <tr>\n",
       "      <th>0</th>\n",
       "      <td>16</td>\n",
       "      <td>7</td>\n",
       "    </tr>\n",
       "    <tr>\n",
       "      <th>1</th>\n",
       "      <td>17</td>\n",
       "      <td>17</td>\n",
       "    </tr>\n",
       "    <tr>\n",
       "      <th>2</th>\n",
       "      <td>10</td>\n",
       "      <td>18</td>\n",
       "    </tr>\n",
       "    <tr>\n",
       "      <th>3</th>\n",
       "      <td>6</td>\n",
       "      <td>11</td>\n",
       "    </tr>\n",
       "    <tr>\n",
       "      <th>4</th>\n",
       "      <td>14</td>\n",
       "      <td>5</td>\n",
       "    </tr>\n",
       "  </tbody>\n",
       "</table>\n",
       "</div>"
      ],
      "text/plain": [
       "   omset  operasional\n",
       "0     16            7\n",
       "1     17           17\n",
       "2     10           18\n",
       "3      6           11\n",
       "4     14            5"
      ]
     },
     "execution_count": 4,
     "metadata": {},
     "output_type": "execute_result"
    }
   ],
   "source": [
    "n_rows = 5\n",
    "n_cols = 2\n",
    "cols = ['omset','operasional']\n",
    "\n",
    "df = pd.DataFrame(np.random.randint(1,20,size=(n_rows,n_cols)),\n",
    "                 columns=cols)\n",
    "df"
   ]
  },
  {
   "cell_type": "code",
   "execution_count": 5,
   "metadata": {},
   "outputs": [
    {
     "data": {
      "text/html": [
       "<div>\n",
       "<style scoped>\n",
       "    .dataframe tbody tr th:only-of-type {\n",
       "        vertical-align: middle;\n",
       "    }\n",
       "\n",
       "    .dataframe tbody tr th {\n",
       "        vertical-align: top;\n",
       "    }\n",
       "\n",
       "    .dataframe thead th {\n",
       "        text-align: right;\n",
       "    }\n",
       "</style>\n",
       "<table border=\"1\" class=\"dataframe\">\n",
       "  <thead>\n",
       "    <tr style=\"text-align: right;\">\n",
       "      <th></th>\n",
       "      <th>omset</th>\n",
       "      <th>operasional</th>\n",
       "    </tr>\n",
       "  </thead>\n",
       "  <tbody>\n",
       "    <tr>\n",
       "      <th>0</th>\n",
       "      <td>1600000</td>\n",
       "      <td>70000</td>\n",
       "    </tr>\n",
       "    <tr>\n",
       "      <th>1</th>\n",
       "      <td>1700000</td>\n",
       "      <td>170000</td>\n",
       "    </tr>\n",
       "    <tr>\n",
       "      <th>2</th>\n",
       "      <td>1000000</td>\n",
       "      <td>180000</td>\n",
       "    </tr>\n",
       "    <tr>\n",
       "      <th>3</th>\n",
       "      <td>600000</td>\n",
       "      <td>110000</td>\n",
       "    </tr>\n",
       "    <tr>\n",
       "      <th>4</th>\n",
       "      <td>1400000</td>\n",
       "      <td>50000</td>\n",
       "    </tr>\n",
       "  </tbody>\n",
       "</table>\n",
       "</div>"
      ],
      "text/plain": [
       "     omset  operasional\n",
       "0  1600000        70000\n",
       "1  1700000       170000\n",
       "2  1000000       180000\n",
       "3   600000       110000\n",
       "4  1400000        50000"
      ]
     },
     "execution_count": 5,
     "metadata": {},
     "output_type": "execute_result"
    }
   ],
   "source": [
    "df['omset'] = df['omset']*100_000\n",
    "df['operasional'] = df['operasional'] * 10_000\n",
    "df"
   ]
  },
  {
   "cell_type": "code",
   "execution_count": 7,
   "metadata": {},
   "outputs": [
    {
     "data": {
      "text/html": [
       "<div>\n",
       "<style scoped>\n",
       "    .dataframe tbody tr th:only-of-type {\n",
       "        vertical-align: middle;\n",
       "    }\n",
       "\n",
       "    .dataframe tbody tr th {\n",
       "        vertical-align: top;\n",
       "    }\n",
       "\n",
       "    .dataframe thead th {\n",
       "        text-align: right;\n",
       "    }\n",
       "</style>\n",
       "<table border=\"1\" class=\"dataframe\">\n",
       "  <thead>\n",
       "    <tr style=\"text-align: right;\">\n",
       "      <th></th>\n",
       "      <th>tanggal</th>\n",
       "      <th>omset</th>\n",
       "      <th>operasional</th>\n",
       "    </tr>\n",
       "  </thead>\n",
       "  <tbody>\n",
       "    <tr>\n",
       "      <th>0</th>\n",
       "      <td>2000-01-01</td>\n",
       "      <td>1600000</td>\n",
       "      <td>70000</td>\n",
       "    </tr>\n",
       "    <tr>\n",
       "      <th>1</th>\n",
       "      <td>2000-01-02</td>\n",
       "      <td>1700000</td>\n",
       "      <td>170000</td>\n",
       "    </tr>\n",
       "    <tr>\n",
       "      <th>2</th>\n",
       "      <td>2000-01-03</td>\n",
       "      <td>1000000</td>\n",
       "      <td>180000</td>\n",
       "    </tr>\n",
       "    <tr>\n",
       "      <th>3</th>\n",
       "      <td>2000-01-04</td>\n",
       "      <td>600000</td>\n",
       "      <td>110000</td>\n",
       "    </tr>\n",
       "    <tr>\n",
       "      <th>4</th>\n",
       "      <td>2000-01-05</td>\n",
       "      <td>1400000</td>\n",
       "      <td>50000</td>\n",
       "    </tr>\n",
       "  </tbody>\n",
       "</table>\n",
       "</div>"
      ],
      "text/plain": [
       "     tanggal    omset  operasional\n",
       "0 2000-01-01  1600000        70000\n",
       "1 2000-01-02  1700000       170000\n",
       "2 2000-01-03  1000000       180000\n",
       "3 2000-01-04   600000       110000\n",
       "4 2000-01-05  1400000        50000"
      ]
     },
     "execution_count": 7,
     "metadata": {},
     "output_type": "execute_result"
    }
   ],
   "source": [
    "df.index = pd.util.testing.makeDateIndex(n_rows, freq ='D')\n",
    "df = df.reset_index()\n",
    "df = df.rename(columns={'index':'tanggal'})\n",
    "df"
   ]
  },
  {
   "cell_type": "markdown",
   "metadata": {},
   "source": [
    "- penanda underscore `_` digunakan untuk **ignore char**. \n",
    "- `rename(columns={'val_old':'val_new'})` digunakan untuk mengganti nama col pada data frame. parameter kesatu digunakan untuk menentukan nama col yang dulu, dan menggunakan `:` dan dilanjutkan dengan value baru"
   ]
  },
  {
   "cell_type": "markdown",
   "metadata": {},
   "source": [
    "### Melakukan formatting Data Frame"
   ]
  },
  {
   "cell_type": "code",
   "execution_count": 8,
   "metadata": {},
   "outputs": [
    {
     "data": {
      "text/html": [
       "<style  type=\"text/css\" >\n",
       "</style><table id=\"T_6b1792bc_2c9a_11ec_baa0_fcaa14e24bdb\" ><thead>    <tr>        <th class=\"blank level0\" ></th>        <th class=\"col_heading level0 col0\" >tanggal</th>        <th class=\"col_heading level0 col1\" >omset</th>        <th class=\"col_heading level0 col2\" >operasional</th>    </tr></thead><tbody>\n",
       "                <tr>\n",
       "                        <th id=\"T_6b1792bc_2c9a_11ec_baa0_fcaa14e24bdblevel0_row0\" class=\"row_heading level0 row0\" >0</th>\n",
       "                        <td id=\"T_6b1792bc_2c9a_11ec_baa0_fcaa14e24bdbrow0_col0\" class=\"data row0 col0\" >01/01/00</td>\n",
       "                        <td id=\"T_6b1792bc_2c9a_11ec_baa0_fcaa14e24bdbrow0_col1\" class=\"data row0 col1\" >Rp1600000.00</td>\n",
       "                        <td id=\"T_6b1792bc_2c9a_11ec_baa0_fcaa14e24bdbrow0_col2\" class=\"data row0 col2\" >Rp 70000.00</td>\n",
       "            </tr>\n",
       "            <tr>\n",
       "                        <th id=\"T_6b1792bc_2c9a_11ec_baa0_fcaa14e24bdblevel0_row1\" class=\"row_heading level0 row1\" >1</th>\n",
       "                        <td id=\"T_6b1792bc_2c9a_11ec_baa0_fcaa14e24bdbrow1_col0\" class=\"data row1 col0\" >02/01/00</td>\n",
       "                        <td id=\"T_6b1792bc_2c9a_11ec_baa0_fcaa14e24bdbrow1_col1\" class=\"data row1 col1\" >Rp1700000.00</td>\n",
       "                        <td id=\"T_6b1792bc_2c9a_11ec_baa0_fcaa14e24bdbrow1_col2\" class=\"data row1 col2\" >Rp 170000.00</td>\n",
       "            </tr>\n",
       "            <tr>\n",
       "                        <th id=\"T_6b1792bc_2c9a_11ec_baa0_fcaa14e24bdblevel0_row2\" class=\"row_heading level0 row2\" >2</th>\n",
       "                        <td id=\"T_6b1792bc_2c9a_11ec_baa0_fcaa14e24bdbrow2_col0\" class=\"data row2 col0\" >03/01/00</td>\n",
       "                        <td id=\"T_6b1792bc_2c9a_11ec_baa0_fcaa14e24bdbrow2_col1\" class=\"data row2 col1\" >Rp1000000.00</td>\n",
       "                        <td id=\"T_6b1792bc_2c9a_11ec_baa0_fcaa14e24bdbrow2_col2\" class=\"data row2 col2\" >Rp 180000.00</td>\n",
       "            </tr>\n",
       "            <tr>\n",
       "                        <th id=\"T_6b1792bc_2c9a_11ec_baa0_fcaa14e24bdblevel0_row3\" class=\"row_heading level0 row3\" >3</th>\n",
       "                        <td id=\"T_6b1792bc_2c9a_11ec_baa0_fcaa14e24bdbrow3_col0\" class=\"data row3 col0\" >04/01/00</td>\n",
       "                        <td id=\"T_6b1792bc_2c9a_11ec_baa0_fcaa14e24bdbrow3_col1\" class=\"data row3 col1\" >Rp600000.00</td>\n",
       "                        <td id=\"T_6b1792bc_2c9a_11ec_baa0_fcaa14e24bdbrow3_col2\" class=\"data row3 col2\" >Rp 110000.00</td>\n",
       "            </tr>\n",
       "            <tr>\n",
       "                        <th id=\"T_6b1792bc_2c9a_11ec_baa0_fcaa14e24bdblevel0_row4\" class=\"row_heading level0 row4\" >4</th>\n",
       "                        <td id=\"T_6b1792bc_2c9a_11ec_baa0_fcaa14e24bdbrow4_col0\" class=\"data row4 col0\" >05/01/00</td>\n",
       "                        <td id=\"T_6b1792bc_2c9a_11ec_baa0_fcaa14e24bdbrow4_col1\" class=\"data row4 col1\" >Rp1400000.00</td>\n",
       "                        <td id=\"T_6b1792bc_2c9a_11ec_baa0_fcaa14e24bdbrow4_col2\" class=\"data row4 col2\" >Rp 50000.00</td>\n",
       "            </tr>\n",
       "    </tbody></table>"
      ],
      "text/plain": [
       "<pandas.io.formats.style.Styler at 0x1e3003099d0>"
      ]
     },
     "execution_count": 8,
     "metadata": {},
     "output_type": "execute_result"
    }
   ],
   "source": [
    "formatku = {'tanggal':'{:%d/%m/%y}',\n",
    "           'operasional' :'Rp {:.2f}',\n",
    "           'omset':'Rp{:.2f}'}\n",
    "\n",
    "laporan = df.style.format(formatku)\n",
    "laporan"
   ]
  },
  {
   "cell_type": "markdown",
   "metadata": {},
   "source": [
    "- formating digunakan pada tipe data **string**\n",
    "- untuk melakukan formating tanggal menggunakan `'{:%d/%m/%y}'`\n",
    "- untuk melakukan formating penambahan mata uang menggunakan `'Rp {:.2f}'`, penggunaan `{:.2f}` digunakan untuk menyertakan **dua dijit ekstra di belakang koma.**\n",
    "- `df.style.format(param1)` digunakan untuk membuat format dan **bukan data frame** tetapi **objectnya styler**, dan parameter kesatu diisi dengan variable. "
   ]
  },
  {
   "cell_type": "code",
   "execution_count": 9,
   "metadata": {},
   "outputs": [
    {
     "data": {
      "text/plain": [
       "pandas.io.formats.style.Styler"
      ]
     },
     "execution_count": 9,
     "metadata": {},
     "output_type": "execute_result"
    }
   ],
   "source": [
    "type(laporan)"
   ]
  },
  {
   "cell_type": "markdown",
   "metadata": {},
   "source": [
    "- `type(param1)`digunakan untuk melihat **tipe data**, parameter kesatu diisi dengan **data frame** atau **variable data frame**"
   ]
  },
  {
   "cell_type": "code",
   "execution_count": 10,
   "metadata": {},
   "outputs": [
    {
     "data": {
      "text/html": [
       "<style  type=\"text/css\" >\n",
       "</style><table id=\"T_739908a9_2c9a_11ec_9b56_fcaa14e24bdb\" ><thead>    <tr>        <th class=\"col_heading level0 col0\" >tanggal</th>        <th class=\"col_heading level0 col1\" >omset</th>        <th class=\"col_heading level0 col2\" >operasional</th>    </tr></thead><tbody>\n",
       "                <tr>\n",
       "                                <td id=\"T_739908a9_2c9a_11ec_9b56_fcaa14e24bdbrow0_col0\" class=\"data row0 col0\" >01/01/00</td>\n",
       "                        <td id=\"T_739908a9_2c9a_11ec_9b56_fcaa14e24bdbrow0_col1\" class=\"data row0 col1\" >Rp1600000.00</td>\n",
       "                        <td id=\"T_739908a9_2c9a_11ec_9b56_fcaa14e24bdbrow0_col2\" class=\"data row0 col2\" >Rp 70000.00</td>\n",
       "            </tr>\n",
       "            <tr>\n",
       "                                <td id=\"T_739908a9_2c9a_11ec_9b56_fcaa14e24bdbrow1_col0\" class=\"data row1 col0\" >02/01/00</td>\n",
       "                        <td id=\"T_739908a9_2c9a_11ec_9b56_fcaa14e24bdbrow1_col1\" class=\"data row1 col1\" >Rp1700000.00</td>\n",
       "                        <td id=\"T_739908a9_2c9a_11ec_9b56_fcaa14e24bdbrow1_col2\" class=\"data row1 col2\" >Rp 170000.00</td>\n",
       "            </tr>\n",
       "            <tr>\n",
       "                                <td id=\"T_739908a9_2c9a_11ec_9b56_fcaa14e24bdbrow2_col0\" class=\"data row2 col0\" >03/01/00</td>\n",
       "                        <td id=\"T_739908a9_2c9a_11ec_9b56_fcaa14e24bdbrow2_col1\" class=\"data row2 col1\" >Rp1000000.00</td>\n",
       "                        <td id=\"T_739908a9_2c9a_11ec_9b56_fcaa14e24bdbrow2_col2\" class=\"data row2 col2\" >Rp 180000.00</td>\n",
       "            </tr>\n",
       "            <tr>\n",
       "                                <td id=\"T_739908a9_2c9a_11ec_9b56_fcaa14e24bdbrow3_col0\" class=\"data row3 col0\" >04/01/00</td>\n",
       "                        <td id=\"T_739908a9_2c9a_11ec_9b56_fcaa14e24bdbrow3_col1\" class=\"data row3 col1\" >Rp600000.00</td>\n",
       "                        <td id=\"T_739908a9_2c9a_11ec_9b56_fcaa14e24bdbrow3_col2\" class=\"data row3 col2\" >Rp 110000.00</td>\n",
       "            </tr>\n",
       "            <tr>\n",
       "                                <td id=\"T_739908a9_2c9a_11ec_9b56_fcaa14e24bdbrow4_col0\" class=\"data row4 col0\" >05/01/00</td>\n",
       "                        <td id=\"T_739908a9_2c9a_11ec_9b56_fcaa14e24bdbrow4_col1\" class=\"data row4 col1\" >Rp1400000.00</td>\n",
       "                        <td id=\"T_739908a9_2c9a_11ec_9b56_fcaa14e24bdbrow4_col2\" class=\"data row4 col2\" >Rp 50000.00</td>\n",
       "            </tr>\n",
       "    </tbody></table>"
      ],
      "text/plain": [
       "<pandas.io.formats.style.Styler at 0x1e3003099d0>"
      ]
     },
     "execution_count": 10,
     "metadata": {},
     "output_type": "execute_result"
    }
   ],
   "source": [
    "laporan.hide_index()"
   ]
  },
  {
   "cell_type": "markdown",
   "metadata": {},
   "source": [
    "- `hide_index()` digunakan untuk **menyembunyikan index**"
   ]
  },
  {
   "cell_type": "code",
   "execution_count": 11,
   "metadata": {},
   "outputs": [
    {
     "data": {
      "text/html": [
       "<style  type=\"text/css\" >\n",
       "</style><table id=\"T_7f6d260f_2c9a_11ec_95ee_fcaa14e24bdb\" ><caption>Data Omset dan Operasional</caption><thead>    <tr>        <th class=\"col_heading level0 col0\" >tanggal</th>        <th class=\"col_heading level0 col1\" >omset</th>        <th class=\"col_heading level0 col2\" >operasional</th>    </tr></thead><tbody>\n",
       "                <tr>\n",
       "                                <td id=\"T_7f6d260f_2c9a_11ec_95ee_fcaa14e24bdbrow0_col0\" class=\"data row0 col0\" >01/01/00</td>\n",
       "                        <td id=\"T_7f6d260f_2c9a_11ec_95ee_fcaa14e24bdbrow0_col1\" class=\"data row0 col1\" >Rp1600000.00</td>\n",
       "                        <td id=\"T_7f6d260f_2c9a_11ec_95ee_fcaa14e24bdbrow0_col2\" class=\"data row0 col2\" >Rp 70000.00</td>\n",
       "            </tr>\n",
       "            <tr>\n",
       "                                <td id=\"T_7f6d260f_2c9a_11ec_95ee_fcaa14e24bdbrow1_col0\" class=\"data row1 col0\" >02/01/00</td>\n",
       "                        <td id=\"T_7f6d260f_2c9a_11ec_95ee_fcaa14e24bdbrow1_col1\" class=\"data row1 col1\" >Rp1700000.00</td>\n",
       "                        <td id=\"T_7f6d260f_2c9a_11ec_95ee_fcaa14e24bdbrow1_col2\" class=\"data row1 col2\" >Rp 170000.00</td>\n",
       "            </tr>\n",
       "            <tr>\n",
       "                                <td id=\"T_7f6d260f_2c9a_11ec_95ee_fcaa14e24bdbrow2_col0\" class=\"data row2 col0\" >03/01/00</td>\n",
       "                        <td id=\"T_7f6d260f_2c9a_11ec_95ee_fcaa14e24bdbrow2_col1\" class=\"data row2 col1\" >Rp1000000.00</td>\n",
       "                        <td id=\"T_7f6d260f_2c9a_11ec_95ee_fcaa14e24bdbrow2_col2\" class=\"data row2 col2\" >Rp 180000.00</td>\n",
       "            </tr>\n",
       "            <tr>\n",
       "                                <td id=\"T_7f6d260f_2c9a_11ec_95ee_fcaa14e24bdbrow3_col0\" class=\"data row3 col0\" >04/01/00</td>\n",
       "                        <td id=\"T_7f6d260f_2c9a_11ec_95ee_fcaa14e24bdbrow3_col1\" class=\"data row3 col1\" >Rp600000.00</td>\n",
       "                        <td id=\"T_7f6d260f_2c9a_11ec_95ee_fcaa14e24bdbrow3_col2\" class=\"data row3 col2\" >Rp 110000.00</td>\n",
       "            </tr>\n",
       "            <tr>\n",
       "                                <td id=\"T_7f6d260f_2c9a_11ec_95ee_fcaa14e24bdbrow4_col0\" class=\"data row4 col0\" >05/01/00</td>\n",
       "                        <td id=\"T_7f6d260f_2c9a_11ec_95ee_fcaa14e24bdbrow4_col1\" class=\"data row4 col1\" >Rp1400000.00</td>\n",
       "                        <td id=\"T_7f6d260f_2c9a_11ec_95ee_fcaa14e24bdbrow4_col2\" class=\"data row4 col2\" >Rp 50000.00</td>\n",
       "            </tr>\n",
       "    </tbody></table>"
      ],
      "text/plain": [
       "<pandas.io.formats.style.Styler at 0x1e3003099d0>"
      ]
     },
     "execution_count": 11,
     "metadata": {},
     "output_type": "execute_result"
    }
   ],
   "source": [
    "laporan.set_caption('Data Omset dan Operasional')"
   ]
  },
  {
   "cell_type": "markdown",
   "metadata": {},
   "source": [
    "- `set_caption(val_string)` digunakan untuk memberikan **judul** atau **title**"
   ]
  },
  {
   "cell_type": "code",
   "execution_count": 13,
   "metadata": {},
   "outputs": [
    {
     "data": {
      "text/html": [
       "<style  type=\"text/css\" >\n",
       "#T_604b22b8_2c9c_11ec_b872_fcaa14e24bdbrow1_col1{\n",
       "            background-color:  lightgreen;\n",
       "        }#T_604b22b8_2c9c_11ec_b872_fcaa14e24bdbrow2_col2{\n",
       "            background-color:  grey;\n",
       "        }#T_604b22b8_2c9c_11ec_b872_fcaa14e24bdbrow3_col1{\n",
       "            background-color:  pink;\n",
       "        }#T_604b22b8_2c9c_11ec_b872_fcaa14e24bdbrow4_col2{\n",
       "            background-color:  lightblue;\n",
       "        }</style><table id=\"T_604b22b8_2c9c_11ec_b872_fcaa14e24bdb\" ><caption>Data Omset dan Operasional</caption><thead>    <tr>        <th class=\"col_heading level0 col0\" >tanggal</th>        <th class=\"col_heading level0 col1\" >omset</th>        <th class=\"col_heading level0 col2\" >operasional</th>    </tr></thead><tbody>\n",
       "                <tr>\n",
       "                                <td id=\"T_604b22b8_2c9c_11ec_b872_fcaa14e24bdbrow0_col0\" class=\"data row0 col0\" >01/01/00</td>\n",
       "                        <td id=\"T_604b22b8_2c9c_11ec_b872_fcaa14e24bdbrow0_col1\" class=\"data row0 col1\" >Rp1600000.00</td>\n",
       "                        <td id=\"T_604b22b8_2c9c_11ec_b872_fcaa14e24bdbrow0_col2\" class=\"data row0 col2\" >Rp 70000.00</td>\n",
       "            </tr>\n",
       "            <tr>\n",
       "                                <td id=\"T_604b22b8_2c9c_11ec_b872_fcaa14e24bdbrow1_col0\" class=\"data row1 col0\" >02/01/00</td>\n",
       "                        <td id=\"T_604b22b8_2c9c_11ec_b872_fcaa14e24bdbrow1_col1\" class=\"data row1 col1\" >Rp1700000.00</td>\n",
       "                        <td id=\"T_604b22b8_2c9c_11ec_b872_fcaa14e24bdbrow1_col2\" class=\"data row1 col2\" >Rp 170000.00</td>\n",
       "            </tr>\n",
       "            <tr>\n",
       "                                <td id=\"T_604b22b8_2c9c_11ec_b872_fcaa14e24bdbrow2_col0\" class=\"data row2 col0\" >03/01/00</td>\n",
       "                        <td id=\"T_604b22b8_2c9c_11ec_b872_fcaa14e24bdbrow2_col1\" class=\"data row2 col1\" >Rp1000000.00</td>\n",
       "                        <td id=\"T_604b22b8_2c9c_11ec_b872_fcaa14e24bdbrow2_col2\" class=\"data row2 col2\" >Rp 180000.00</td>\n",
       "            </tr>\n",
       "            <tr>\n",
       "                                <td id=\"T_604b22b8_2c9c_11ec_b872_fcaa14e24bdbrow3_col0\" class=\"data row3 col0\" >04/01/00</td>\n",
       "                        <td id=\"T_604b22b8_2c9c_11ec_b872_fcaa14e24bdbrow3_col1\" class=\"data row3 col1\" >Rp600000.00</td>\n",
       "                        <td id=\"T_604b22b8_2c9c_11ec_b872_fcaa14e24bdbrow3_col2\" class=\"data row3 col2\" >Rp 110000.00</td>\n",
       "            </tr>\n",
       "            <tr>\n",
       "                                <td id=\"T_604b22b8_2c9c_11ec_b872_fcaa14e24bdbrow4_col0\" class=\"data row4 col0\" >05/01/00</td>\n",
       "                        <td id=\"T_604b22b8_2c9c_11ec_b872_fcaa14e24bdbrow4_col1\" class=\"data row4 col1\" >Rp1400000.00</td>\n",
       "                        <td id=\"T_604b22b8_2c9c_11ec_b872_fcaa14e24bdbrow4_col2\" class=\"data row4 col2\" >Rp 50000.00</td>\n",
       "            </tr>\n",
       "    </tbody></table>"
      ],
      "text/plain": [
       "<pandas.io.formats.style.Styler at 0x1e3003099d0>"
      ]
     },
     "execution_count": 13,
     "metadata": {},
     "output_type": "execute_result"
    }
   ],
   "source": [
    "laporan.highlight_min('omset',color ='pink')\n",
    "laporan.highlight_max('omset',color ='lightgreen')\n",
    "\n",
    "laporan.highlight_min('operasional',color ='lightblue')\n",
    "laporan.highlight_max('operasional',color ='grey')\n"
   ]
  },
  {
   "cell_type": "markdown",
   "metadata": {},
   "source": [
    "- `laporan.highlight_min(param1,param2)` diguanakn untuk **memberikan warna pada nilai minimum**.\n",
    "- pada parameter pertama digunakan untuk menentukan **value_cols** \n",
    "- pada parameter kedua digunakan yaitu `color='val_color'` digunakan untuk **memberikan warna**.\n",
    "- `laporan.highlight_max(param1,param2)` digunakan untuk **memberikan warna pada nilai maximum**"
   ]
  },
  {
   "cell_type": "code",
   "execution_count": null,
   "metadata": {},
   "outputs": [],
   "source": []
  }
 ],
 "metadata": {
  "kernelspec": {
   "display_name": "Python 3",
   "language": "python",
   "name": "python3"
  },
  "language_info": {
   "codemirror_mode": {
    "name": "ipython",
    "version": 3
   },
   "file_extension": ".py",
   "mimetype": "text/x-python",
   "name": "python",
   "nbconvert_exporter": "python",
   "pygments_lexer": "ipython3",
   "version": "3.8.5"
  }
 },
 "nbformat": 4,
 "nbformat_minor": 4
}
